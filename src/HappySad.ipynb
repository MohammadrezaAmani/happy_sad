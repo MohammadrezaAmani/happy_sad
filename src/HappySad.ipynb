{
 "cells": [
  {
   "cell_type": "code",
   "execution_count": 1,
   "metadata": {},
   "outputs": [],
   "source": [
    "# ----------------------- import libraries -------------------\n",
    "\n",
    "import nltk\n",
    "import hazm\n",
    "import sklearn as sk\n",
    "import pandas as pd\n",
    "import numpy as np\n",
    "import hazm"
   ]
  },
  {
   "cell_type": "code",
   "execution_count": null,
   "metadata": {},
   "outputs": [],
   "source": [
    "from sklearn.neighbors import KNeighborsClassifier\n",
    "from sklearn.tree import DecisionTreeClassifier\n",
    "from sklearn.ensemble import RandomForestClassifier\n",
    "from sklearn.linear_model import LogisticRegression, SGDClassifier\n",
    "from sklearn.naive_bayes import MultinomialNB\n",
    "from sklearn.svm import SVC\n",
    "from sklearn.metrics import classification_report, accuracy_score, confusion_matrix\n",
    "from nltk.classify.scikitlearn import SklearnClassifier"
   ]
  },
  {
   "cell_type": "code",
   "execution_count": 2,
   "metadata": {},
   "outputs": [
    {
     "name": "stdout",
     "output_type": "stream",
     "text": [
      "<class 'str'>\n"
     ]
    },
    {
     "data": {
      "text/html": [
       "<div>\n",
       "<style scoped>\n",
       "    .dataframe tbody tr th:only-of-type {\n",
       "        vertical-align: middle;\n",
       "    }\n",
       "\n",
       "    .dataframe tbody tr th {\n",
       "        vertical-align: top;\n",
       "    }\n",
       "\n",
       "    .dataframe thead th {\n",
       "        text-align: right;\n",
       "    }\n",
       "</style>\n",
       "<table border=\"1\" class=\"dataframe\">\n",
       "  <thead>\n",
       "    <tr style=\"text-align: right;\">\n",
       "      <th></th>\n",
       "      <th>text</th>\n",
       "      <th>label</th>\n",
       "      <th>label_id</th>\n",
       "    </tr>\n",
       "  </thead>\n",
       "  <tbody>\n",
       "    <tr>\n",
       "      <th>0</th>\n",
       "      <td></td>\n",
       "      <td>label</td>\n",
       "      <td>label_id</td>\n",
       "    </tr>\n",
       "    <tr>\n",
       "      <th>1</th>\n",
       "      <td>واقعا حیف وقت که بنویسم سرویس دهیتون شده افتضاح</td>\n",
       "      <td>SAD</td>\n",
       "      <td>1</td>\n",
       "    </tr>\n",
       "    <tr>\n",
       "      <th>2</th>\n",
       "      <td>قرار بود ۱ ساعته برسه ولی نیم ساعت زودتر از مو...</td>\n",
       "      <td>HAPPY</td>\n",
       "      <td>0</td>\n",
       "    </tr>\n",
       "    <tr>\n",
       "      <th>3</th>\n",
       "      <td>قیمت این مدل اصلا با کیفیتش سازگاری نداره، فقط...</td>\n",
       "      <td>SAD</td>\n",
       "      <td>1</td>\n",
       "    </tr>\n",
       "    <tr>\n",
       "      <th>4</th>\n",
       "      <td>عالللی بود همه چه درست و به اندازه و کیفیت خوب...</td>\n",
       "      <td>HAPPY</td>\n",
       "      <td>0</td>\n",
       "    </tr>\n",
       "    <tr>\n",
       "      <th>...</th>\n",
       "      <td>...</td>\n",
       "      <td>...</td>\n",
       "      <td>...</td>\n",
       "    </tr>\n",
       "    <tr>\n",
       "      <th>56696</th>\n",
       "      <td>یک تیکه کم فرستاده بودن و با تماس من در کمترین...</td>\n",
       "      <td>HAPPY</td>\n",
       "      <td>0</td>\n",
       "    </tr>\n",
       "    <tr>\n",
       "      <th>56697</th>\n",
       "      <td>عالی بود همه چیز ممنونم پیک هم خیلی مرتب و به ...</td>\n",
       "      <td>HAPPY</td>\n",
       "      <td>0</td>\n",
       "    </tr>\n",
       "    <tr>\n",
       "      <th>56698</th>\n",
       "      <td>مثل همیشه عالی، من چندمین باره سفارش میدم و هر...</td>\n",
       "      <td>HAPPY</td>\n",
       "      <td>0</td>\n",
       "    </tr>\n",
       "    <tr>\n",
       "      <th>56699</th>\n",
       "      <td>دلستر استوایی خواسته بودم اما لیمویی فرستادند</td>\n",
       "      <td>HAPPY</td>\n",
       "      <td>0</td>\n",
       "    </tr>\n",
       "    <tr>\n",
       "      <th>56700</th>\n",
       "      <td>جای مرغ گریل شده ناگت بود، به این نمی‌گن چیکن ...</td>\n",
       "      <td>SAD</td>\n",
       "      <td>1</td>\n",
       "    </tr>\n",
       "  </tbody>\n",
       "</table>\n",
       "<p>56701 rows × 3 columns</p>\n",
       "</div>"
      ],
      "text/plain": [
       "                                                    text  label  label_id\n",
       "0                                                         label  label_id\n",
       "1        واقعا حیف وقت که بنویسم سرویس دهیتون شده افتضاح    SAD         1\n",
       "2      قرار بود ۱ ساعته برسه ولی نیم ساعت زودتر از مو...  HAPPY         0\n",
       "3      قیمت این مدل اصلا با کیفیتش سازگاری نداره، فقط...    SAD         1\n",
       "4      عالللی بود همه چه درست و به اندازه و کیفیت خوب...  HAPPY         0\n",
       "...                                                  ...    ...       ...\n",
       "56696  یک تیکه کم فرستاده بودن و با تماس من در کمترین...  HAPPY         0\n",
       "56697  عالی بود همه چیز ممنونم پیک هم خیلی مرتب و به ...  HAPPY         0\n",
       "56698  مثل همیشه عالی، من چندمین باره سفارش میدم و هر...  HAPPY         0\n",
       "56699      دلستر استوایی خواسته بودم اما لیمویی فرستادند  HAPPY         0\n",
       "56700  جای مرغ گریل شده ناگت بود، به این نمی‌گن چیکن ...    SAD         1\n",
       "\n",
       "[56701 rows x 3 columns]"
      ]
     },
     "execution_count": 2,
     "metadata": {},
     "output_type": "execute_result"
    }
   ],
   "source": [
    "with open('data/train.csv') as f:\n",
    "    data = f.readlines()\n",
    "data = [x.strip() for x in data]\n",
    "\n",
    "labels = [x.split('\\t')[-2] for x in data]\n",
    "label_id = [x.split('\\t')[-1] for x in data]\n",
    "texts = [x.split('\\t')[1:-2] for x in data]\n",
    "data_train = pd.DataFrame({'text':texts,'label':labels,'label_id':label_id})\n",
    "data_train['text'] = data_train['text'].apply(lambda x: ' '.join(x))\n",
    "# data_train['text'] = data_train['text'].apply(lambda x: hazm.word_tokenize(x))\n",
    "print(type(data_train['text'][0]))"
   ]
  },
  {
   "cell_type": "code",
   "execution_count": 3,
   "metadata": {},
   "outputs": [],
   "source": [
    "from __future__ import unicode_literals\n",
    "from hazm import *\n",
    "normalizer = Normalizer()\n",
    "data_train['text'] = data_train['text'].apply(lambda x: normalizer.normalize(x))"
   ]
  },
  {
   "cell_type": "code",
   "execution_count": 4,
   "metadata": {},
   "outputs": [],
   "source": [
    "# data_train['text'] = data_train['text'].apply(lambda x: hazm.word_tokenize(x))\n",
    "data_train['text'] = data_train['text'].str.replace('۰','0')\n",
    "data_train['text'] = data_train['text'].str.replace('۱','1')\n",
    "data_train['text'] = data_train['text'].str.replace('۲','2')\n",
    "data_train['text'] = data_train['text'].str.replace('۳','3')\n",
    "data_train['text'] = data_train['text'].str.replace('۴','4')\n",
    "data_train['text'] = data_train['text'].str.replace('۵','5')\n",
    "data_train['text'] = data_train['text'].str.replace('۶','6')\n",
    "data_train['text'] = data_train['text'].str.replace('۷','7')\n",
    "data_train['text'] = data_train['text'].str.replace('۸','8')\n",
    "data_train['text'] = data_train['text'].str.replace('۹','9')"
   ]
  },
  {
   "cell_type": "code",
   "execution_count": 5,
   "metadata": {},
   "outputs": [
    {
     "data": {
      "text/html": [
       "<div>\n",
       "<style scoped>\n",
       "    .dataframe tbody tr th:only-of-type {\n",
       "        vertical-align: middle;\n",
       "    }\n",
       "\n",
       "    .dataframe tbody tr th {\n",
       "        vertical-align: top;\n",
       "    }\n",
       "\n",
       "    .dataframe thead th {\n",
       "        text-align: right;\n",
       "    }\n",
       "</style>\n",
       "<table border=\"1\" class=\"dataframe\">\n",
       "  <thead>\n",
       "    <tr style=\"text-align: right;\">\n",
       "      <th></th>\n",
       "      <th>text</th>\n",
       "      <th>label</th>\n",
       "      <th>label_id</th>\n",
       "    </tr>\n",
       "  </thead>\n",
       "  <tbody>\n",
       "    <tr>\n",
       "      <th>0</th>\n",
       "      <td></td>\n",
       "      <td>label</td>\n",
       "      <td>label_id</td>\n",
       "    </tr>\n",
       "    <tr>\n",
       "      <th>1</th>\n",
       "      <td>واقعا حیف وقت که بنویسم سرویس دهیتون شده افتضاح</td>\n",
       "      <td>SAD</td>\n",
       "      <td>1</td>\n",
       "    </tr>\n",
       "    <tr>\n",
       "      <th>2</th>\n",
       "      <td>قرار بود 1 ساعته برسه ولی نیم ساعت زودتر از مو...</td>\n",
       "      <td>HAPPY</td>\n",
       "      <td>0</td>\n",
       "    </tr>\n",
       "    <tr>\n",
       "      <th>3</th>\n",
       "      <td>قیمت این مدل اصلا با کیفیتش سازگاری نداره، فقط...</td>\n",
       "      <td>SAD</td>\n",
       "      <td>1</td>\n",
       "    </tr>\n",
       "    <tr>\n",
       "      <th>4</th>\n",
       "      <td>عالللی بود همه چه درست و به اندازه و کیفیت خوب...</td>\n",
       "      <td>HAPPY</td>\n",
       "      <td>0</td>\n",
       "    </tr>\n",
       "    <tr>\n",
       "      <th>...</th>\n",
       "      <td>...</td>\n",
       "      <td>...</td>\n",
       "      <td>...</td>\n",
       "    </tr>\n",
       "    <tr>\n",
       "      <th>56696</th>\n",
       "      <td>یک تیکه کم فرستاده بودن و با تماس من در کمترین...</td>\n",
       "      <td>HAPPY</td>\n",
       "      <td>0</td>\n",
       "    </tr>\n",
       "    <tr>\n",
       "      <th>56697</th>\n",
       "      <td>عالی بود همه چیز ممنونم پیک هم خیلی مرتب و به ...</td>\n",
       "      <td>HAPPY</td>\n",
       "      <td>0</td>\n",
       "    </tr>\n",
       "    <tr>\n",
       "      <th>56698</th>\n",
       "      <td>مثل همیشه عالی، من چندمین باره سفارش میدم و هر...</td>\n",
       "      <td>HAPPY</td>\n",
       "      <td>0</td>\n",
       "    </tr>\n",
       "    <tr>\n",
       "      <th>56699</th>\n",
       "      <td>دلستر استوایی خواسته بودم اما لیمویی فرستادند</td>\n",
       "      <td>HAPPY</td>\n",
       "      <td>0</td>\n",
       "    </tr>\n",
       "    <tr>\n",
       "      <th>56700</th>\n",
       "      <td>جای مرغ گریل شده ناگت بود، به این نمی‌گن چیکن ...</td>\n",
       "      <td>SAD</td>\n",
       "      <td>1</td>\n",
       "    </tr>\n",
       "  </tbody>\n",
       "</table>\n",
       "<p>56701 rows × 3 columns</p>\n",
       "</div>"
      ],
      "text/plain": [
       "                                                    text  label  label_id\n",
       "0                                                         label  label_id\n",
       "1        واقعا حیف وقت که بنویسم سرویس دهیتون شده افتضاح    SAD         1\n",
       "2      قرار بود 1 ساعته برسه ولی نیم ساعت زودتر از مو...  HAPPY         0\n",
       "3      قیمت این مدل اصلا با کیفیتش سازگاری نداره، فقط...    SAD         1\n",
       "4      عالللی بود همه چه درست و به اندازه و کیفیت خوب...  HAPPY         0\n",
       "...                                                  ...    ...       ...\n",
       "56696  یک تیکه کم فرستاده بودن و با تماس من در کمترین...  HAPPY         0\n",
       "56697  عالی بود همه چیز ممنونم پیک هم خیلی مرتب و به ...  HAPPY         0\n",
       "56698  مثل همیشه عالی، من چندمین باره سفارش میدم و هر...  HAPPY         0\n",
       "56699      دلستر استوایی خواسته بودم اما لیمویی فرستادند  HAPPY         0\n",
       "56700  جای مرغ گریل شده ناگت بود، به این نمی‌گن چیکن ...    SAD         1\n",
       "\n",
       "[56701 rows x 3 columns]"
      ]
     },
     "execution_count": 5,
     "metadata": {},
     "output_type": "execute_result"
    }
   ],
   "source": [
    "data_train"
   ]
  },
  {
   "cell_type": "code",
   "execution_count": 6,
   "metadata": {},
   "outputs": [],
   "source": [
    "# cleaning text\n",
    "processed = data_train['text'].str.replace(r'^.+@[^\\.].*\\.[a-z]{2,}$',\n",
    "                                 ' emailaddress ',regex=True)\n",
    "processed = processed.str.replace(r'(http|ftp|https):\\/\\/[\\w\\-_]+(\\.[\\w\\-_]+)+([\\w\\-\\.,@?^=%&:/~\\+#]*[\\w\\-\\@?^=%&/~\\+#])?',\n",
    "                                  ' webaddress ',regex=True)\n",
    "processed = processed.str.replace(r'(تومان|ریال|دلار|\\$|تومن|هزار|میلیون|یورو|قرون|دیر|سرد|افت|فاجعه|نمیخوام|نمیخرم|نمی خرم|نمیکنم|متاسفانه|احمقانه)', ' moneysymb ',regex=True)\n",
    "\n",
    "processed = processed.str.replace(r'^\\(?[\\d]{3}\\)?[\\s-]?[\\d]{3}[\\s-]?[\\d]{4}$',\n",
    "                                  ' phonenumbr ',regex=True)\n",
    "processed = processed.str.replace(r'\\d+(\\.\\d+)?', ' numbr ',regex=True)\n",
    "processed = processed.str.replace(r'(ده|بیست|صد|سی|هزار|چهل|پنجاه|شصت|هفتاد|هشتاد|نود|دو|سه|چهار|پنج|شش|هفت|هشت|یازده|دوازده|سیزده|چهارده)', ' numbr ',regex=True)\n",
    "processed = processed.str.replace(r'(پوزنده|شونزده|هفده|هیفده|هجده|نوزده|میلیارد)', ' numbr ',regex=True)\n",
    "\n",
    "\n",
    "processed = processed.str.replace(r'[^\\w\\d\\s]', ' ',regex=True)\n",
    "processed = processed.str.replace(r'(نیاوردین|نخریدم|نمیخردم|نمیخوام|نمیشنوم|بد|پایین|گرون|ناراضی|نبود|نیست)', ' BAD ',regex=True)\n",
    "processed = processed.str.replace(r'(افتضاح|فاجعه|مسخره|چرت|گند|نداشت|افت|کثیف|خراب|زشت|نپخته|سوخته|نیست|نیاوردین|نبود|نشده|کثیف)', ' BAD ',regex=True)\n",
    "processed = processed.str.replace(r'[^\\w\\d\\s]', ' ',regex=True)\n",
    "\n",
    "processed = processed.str.replace(r'(بد|شکسته|نمیخرم|نمی خرم|نمیخوام|نمی خوام|نمیشه|نمی شه|نیست|ناراضی|نکردین|نشده|نخواهد|نشد|کهنه|نکرد|نمیکنه|نمی کنه|متاسفانه)', ' BAD ',regex=True)\n",
    "processed = processed.str.replace(r'(نداره|کم|سوخته|کم|سیاه|خراب|قدیمی|کهنه|ماسیده|فاجعه|نداشتن|دقت|خمیر|شفته|نیستم)', ' BAD ',regex=True)\n",
    "processed = processed.str.replace(r'^\\s+|\\s+?$|,', '',regex=True)\n",
    "\n",
    "processed = processed.str.lower()"
   ]
  },
  {
   "cell_type": "code",
   "execution_count": 7,
   "metadata": {},
   "outputs": [],
   "source": [
    "data_train['text'] = processed"
   ]
  },
  {
   "cell_type": "code",
   "execution_count": null,
   "metadata": {},
   "outputs": [],
   "source": []
  },
  {
   "cell_type": "code",
   "execution_count": null,
   "metadata": {},
   "outputs": [],
   "source": []
  },
  {
   "cell_type": "code",
   "execution_count": 8,
   "metadata": {},
   "outputs": [],
   "source": [
    "\n",
    "ps = Lemmatizer()\n",
    "word_tokenizer = WordTokenizer()\n",
    "processed = processed.apply(lambda x: [ps.lemmatize(word) for word in word_tokenizer.tokenize(x)])\n",
    "stopwords = set(stopwords_list())\n",
    "alphabet = ['ا','آ','ب','پ','ت','ث','ج','چ','ح','خ','د','ذ','ر','ز','ژ','س','ش','ص','ض','ط','ظ','ع','غ','ف','ق','ک','گ','ل','م','ن','و','ه','ی','ار','ای']\n",
    "processed = processed.apply(lambda x:[\n",
    "    term for term in x if term not in stopwords and term not in alphabet])\n",
    "# processed = processed.apply(lambda x: [ps.lemmatize(term) for term in x])"
   ]
  },
  {
   "cell_type": "code",
   "execution_count": null,
   "metadata": {},
   "outputs": [],
   "source": []
  },
  {
   "cell_type": "code",
   "execution_count": 9,
   "metadata": {},
   "outputs": [],
   "source": [
    "all_words = []\n",
    "for i in processed:\n",
    "  for j in i:\n",
    "    all_words.append(j)"
   ]
  },
  {
   "cell_type": "code",
   "execution_count": 10,
   "metadata": {},
   "outputs": [
    {
     "name": "stdout",
     "output_type": "stream",
     "text": [
      "Number of words: 19830\n",
      "Most common words: [('numbr', 83819), ('بود#باش', 60660), ('bad', 40757), ('moneysymb', 15651), ('غذا', 15407), ('کیفیت', 12507), ('سفارش', 9644), ('پیتزا', 8063), ('کرد#کن', 6113), ('واقعا', 5725), ('ممنون', 5498), ('اصلا', 5429), ('ارسال', 5065), ('خوشمزه', 5059), ('طعم', 4776), ('شد#شو', 4728), ('مرغ', 4667), ('ها', 4536), ('مزه', 4049), ('یه', 4041), ('پیک', 4019), ('تازه', 3990), ('قیمت', 3842), ('داد#ده', 3345), ('تحویل', 3296), ('نان', 3281), ('سس', 3264), ('گرم', 3236), ('بسته', 3134), ('حجم', 3061), ('رستوران', 3039), ('سان', 2957), ('زمین', 2939), ('داشت#دار', 2854), ('شیرینی', 2804), ('#هست', 2684), ('نون', 2640), ('تر', 2627), ('یچ', 2569), ('اسنپ', 2467)]\n"
     ]
    }
   ],
   "source": [
    "all_words = nltk.FreqDist(all_words)\n",
    "print('Number of words: {}'.format(len(all_words)))\n",
    "print('Most common words: {}'.format(all_words.most_common(40)))"
   ]
  },
  {
   "cell_type": "code",
   "execution_count": null,
   "metadata": {},
   "outputs": [],
   "source": [
    "word_features = list(all_words.keys())[:1500]"
   ]
  },
  {
   "cell_type": "code",
   "execution_count": null,
   "metadata": {},
   "outputs": [],
   "source": [
    "def find_features(message):\n",
    "    words = message\n",
    "    features = []\n",
    "    for word in word_features:\n",
    "        features.append(int(word in words))\n",
    "    return features"
   ]
  },
  {
   "cell_type": "code",
   "execution_count": null,
   "metadata": {},
   "outputs": [],
   "source": [
    "featuresets = [find_features(text) for text in processed.iloc[1:]]"
   ]
  },
  {
   "cell_type": "code",
   "execution_count": null,
   "metadata": {},
   "outputs": [],
   "source": [
    "X,Xt, Y,Yt = sk.model_selection.train_test_split(featuresets,data_train['label_id'][1:], test_size = 0.25, random_state=1)\n",
    "X, Xt, Y, Yt = np.array(X), np.array(Xt), np.array(Y), np.array(Yt)\n"
   ]
  },
  {
   "cell_type": "code",
   "execution_count": null,
   "metadata": {},
   "outputs": [],
   "source": []
  },
  {
   "cell_type": "code",
   "execution_count": null,
   "metadata": {},
   "outputs": [],
   "source": [
    "classifiers = [\n",
    "    KNeighborsClassifier(),\n",
    "    DecisionTreeClassifier(),\n",
    "    RandomForestClassifier(),\n",
    "    LogisticRegression(),\n",
    "    SGDClassifier(),\n",
    "    MultinomialNB(),\n",
    "    SVC()\n",
    "]\n",
    "for clf in classifiers:\n",
    "    clf.fit(X, Y)\n",
    "    y_pred = clf.predict(Xt)\n",
    "    print(clf.__class__.__name__ + ':', accuracy_score(Yt, y_pred)*100)"
   ]
  }
 ],
 "metadata": {
  "kernelspec": {
   "display_name": "Python 3.10.8 64-bit",
   "language": "python",
   "name": "python3"
  },
  "language_info": {
   "codemirror_mode": {
    "name": "ipython",
    "version": 3
   },
   "file_extension": ".py",
   "mimetype": "text/x-python",
   "name": "python",
   "nbconvert_exporter": "python",
   "pygments_lexer": "ipython3",
   "version": "3.10.8"
  },
  "orig_nbformat": 4,
  "vscode": {
   "interpreter": {
    "hash": "e7370f93d1d0cde622a1f8e1c04877d8463912d04d973331ad4851f04de6915a"
   }
  }
 },
 "nbformat": 4,
 "nbformat_minor": 2
}
